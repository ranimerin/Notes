{
 "cells": [
  {
   "cell_type": "code",
   "execution_count": 1,
   "id": "a747a408",
   "metadata": {},
   "outputs": [
    {
     "name": "stdout",
     "output_type": "stream",
     "text": [
      "Enter the principal amount: 1000\n",
      "Enter number of years: 2\n",
      "Enter rate of interest: 3\n",
      "Total amount after 2 years is : 1060.8999999999999\n"
     ]
    }
   ],
   "source": [
    "#1- write a program which takes 3 inputs from user as principle amount (int) and rate of annual interest (float) and total tenure (in years). \n",
    "#write a program to print total amount value at the end of the tenure\n",
    "\n",
    "p=int(input(\"Enter the principal amount: \"))\n",
    "n=int(input(\"Enter number of years: \"))\n",
    "r=float(input(\"Enter rate of interest: \"))\n",
    "a=p*((1+r/100)**n)\n",
    "print(\"Total amount after\",n,\"years is :\",a)"
   ]
  },
  {
   "cell_type": "code",
   "execution_count": null,
   "id": "e74f0a74",
   "metadata": {},
   "outputs": [],
   "source": []
  },
  {
   "cell_type": "code",
   "execution_count": null,
   "id": "db15ca63",
   "metadata": {},
   "outputs": [],
   "source": []
  },
  {
   "cell_type": "code",
   "execution_count": 6,
   "id": "419eb1ca",
   "metadata": {},
   "outputs": [
    {
     "name": "stdout",
     "output_type": "stream",
     "text": [
      "Enter a  number: 0\n",
      "0 is an even number: \n"
     ]
    }
   ],
   "source": [
    "#2- Odd or Even : Ask the user to enter a number. Print whether the number is even or odd.\n",
    "a=int(input(\"Enter a  number: \"))\n",
    "if a%2 == 0:\n",
    "    print(a,\"is an even number: \")\n",
    "else:\n",
    "    print(a,\"is an  odd number: \")"
   ]
  },
  {
   "cell_type": "code",
   "execution_count": 9,
   "id": "810c1620",
   "metadata": {},
   "outputs": [
    {
     "name": "stdout",
     "output_type": "stream",
     "text": [
      "Enter your age: 20\n",
      "Adult\n"
     ]
    }
   ],
   "source": [
    "#3- Ask the user to enter their age. \n",
    "#If age is:less than 13 → print \"Child\"\n",
    "\n",
    "#between 13 and 19 → print \"Teenager\"\n",
    "\n",
    "#20 or more → print \"Adult\" \n",
    "\n",
    "age = int(input(\"Enter your age: \"))\n",
    "\n",
    "if age < 13:\n",
    "    print(\"Child\")\n",
    "elif age <= 19:\n",
    "    print(\"Teenager\")\n",
    "else:\n",
    "    print(\"Adult\")\n"
   ]
  },
  {
   "cell_type": "code",
   "execution_count": 4,
   "id": "1f647135",
   "metadata": {},
   "outputs": [
    {
     "name": "stdout",
     "output_type": "stream",
     "text": [
      "Enter username: admin\n",
      "Enter password: 1234\n",
      "Login successful\n"
     ]
    }
   ],
   "source": [
    "#4- Create two variables: username = \"admin\" and password = \"1234\".\n",
    "#Ask the user to input username and password.\n",
    "#If both match, print “Login successful”, else “Invalid credentials”.\n",
    "\n",
    "username = \"admin\"\n",
    "password = \"1234\"\n",
    "\n",
    "entered_username = input(\"Enter username: \")\n",
    "entered_password = input(\"Enter password: \")\n",
    "\n",
    "if entered_username == username and entered_password == password:\n",
    "    print(\"Login successful\")\n",
    "else:\n",
    "    print(\"Invalid credentials\")\n",
    "\n"
   ]
  },
  {
   "cell_type": "code",
   "execution_count": 7,
   "id": "e3322e11",
   "metadata": {},
   "outputs": [
    {
     "name": "stdout",
     "output_type": "stream",
     "text": [
      "Enter first number: 5\n",
      "Enter second number: 6\n",
      "Enter third number: 7\n",
      "Largest number is: 7\n"
     ]
    }
   ],
   "source": [
    "#5: Find the Largest Number\n",
    "\n",
    "#Ask the user to enter three numbers a, b, c\n",
    "#Print the largest among them.\n",
    "\n",
    "\n",
    "a = int(input(\"Enter first number: \"))\n",
    "b = int(input(\"Enter second number: \"))\n",
    "c = int(input(\"Enter third number: \"))\n",
    "\n",
    "if a >= b and a >= c:\n",
    "  print(\"Largest number is:\", a)\n",
    "elif b >= a and b >= c:\n",
    " print(\"Largest number is:\", b)\n",
    "else:\n",
    " print(\"Largest number is:\", c)\n"
   ]
  },
  {
   "cell_type": "code",
   "execution_count": 2,
   "id": "4e47a438",
   "metadata": {},
   "outputs": [
    {
     "name": "stdout",
     "output_type": "stream",
     "text": [
      "Enter temperature in Celsius: 38\n",
      "38.0°C is equal to 100.4°F\n"
     ]
    }
   ],
   "source": [
    "#Ask the user to enter temperature in Celsius\n",
    "#Convert it to Fahrenheit using the formula:\n",
    "#Fahrenheit = (Celsius × 9/5) + 32\n",
    "#Print the result like: \"37°C is equal to 98.6°F\"\n",
    "\n",
    "\n",
    "\n",
    "celsius = float(input(\"Enter temperature in Celsius: \"))\n",
    "fahrenheit = (celsius * 9 / 5) + 32\n",
    "\n",
    "print(f\"{celsius}°C is equal to {fahrenheit}°F\")\n"
   ]
  },
  {
   "cell_type": "code",
   "execution_count": 4,
   "id": "4e9523c4",
   "metadata": {},
   "outputs": [
    {
     "name": "stdout",
     "output_type": "stream",
     "text": [
      "Enter a number: -5\n",
      "Negative number\n"
     ]
    }
   ],
   "source": [
    "#Ask the user to input a number.\n",
    "#Print whether it is:\n",
    "\n",
    "#* Positive\n",
    "#* Negative\n",
    "#* Zero\n",
    "\n",
    "\n",
    "num = float(input(\"Enter a number: \"))\n",
    "\n",
    "if num > 0:\n",
    "    print(\"Positive number\")\n",
    "elif num < 0:\n",
    "    print(\"Negative number\")\n",
    "else:\n",
    "    print(\"Zero\")\n"
   ]
  },
  {
   "cell_type": "code",
   "execution_count": 4,
   "id": "10e87d68",
   "metadata": {},
   "outputs": [
    {
     "name": "stdout",
     "output_type": "stream",
     "text": [
      "Enter a name: rani\n",
      "rbni\n"
     ]
    }
   ],
   "source": [
    "#write a program which takes the name of the user as input and \n",
    "#replace all the occurence of character 'a' in the name to 'b' and print it.\n",
    "a=input(\"Enter a name: \")\n",
    "print(a.replace(\"a\",\"b\"))"
   ]
  },
  {
   "cell_type": "code",
   "execution_count": 13,
   "id": "b99c4732",
   "metadata": {},
   "outputs": [
    {
     "name": "stdout",
     "output_type": "stream",
     "text": [
      "Enter a word: rani\n",
      "inar\n",
      "not palindrome\n"
     ]
    }
   ],
   "source": [
    "#Ask the user to input a word.\n",
    "#Check if the word is a palindrome (same forward and backward) eg : madam\n",
    "a=input(\"Enter a word: \")\n",
    "b=a[::-1]\n",
    "print(b)\n",
    "if a==b:\n",
    "    print(\"palindrome\")\n",
    "else:\n",
    "    print(\"not palindrome\")"
   ]
  },
  {
   "cell_type": "code",
   "execution_count": 19,
   "id": "7105a4c3",
   "metadata": {},
   "outputs": [
    {
     "name": "stdout",
     "output_type": "stream",
     "text": [
      "enter a city name: coCHin\n",
      "Cochin\n"
     ]
    }
   ],
   "source": [
    "#4- write a program which takes city name from user input. \n",
    "#irrespective of in which case user enters the city name, \n",
    "#print the city name in camel case meaning first letter should be capital and rest in small.\n",
    "a=input(\"enter a city name: \")\n",
    "b=a[0].upper()\n",
    "c=a[1:].lower()\n",
    "d=b+c\n",
    "print(d)\n"
   ]
  },
  {
   "cell_type": "code",
   "execution_count": 21,
   "id": "215f4484",
   "metadata": {},
   "outputs": [
    {
     "name": "stdout",
     "output_type": "stream",
     "text": [
      "4\n"
     ]
    }
   ],
   "source": [
    "#6-  Display the number of letter \"a\" in the below string\n",
    "m= \"antidisestablishmentarianism\"\n",
    "print(m.count(\"a\"))\n"
   ]
  },
  {
   "cell_type": "code",
   "execution_count": 3,
   "id": "db632b15",
   "metadata": {},
   "outputs": [
    {
     "name": "stdout",
     "output_type": "stream",
     "text": [
      "Enter first name, last name, age: rani,jose,35\n",
      "My name is Rani Jose and I am 35 years old.\n"
     ]
    }
   ],
   "source": [
    "\n",
    "# 7. Full Name and Age Formatting\n",
    "data = input(\"Enter first name, last name, age: \")\n",
    "parts = data.split(\",\")\n",
    "fname = parts[0][0].upper()\n",
    "fname1=parts[0][1:].lower()\n",
    "lname = parts[1][0].upper()\n",
    "lname1=parts[1][1:].lower()\n",
    "age = parts[2]\n",
    "print(\"My name is\", fname+fname1, lname+lname1, \"and I am\", age, \"years old.\")"
   ]
  },
  {
   "cell_type": "code",
   "execution_count": 5,
   "id": "612d481b",
   "metadata": {},
   "outputs": [
    {
     "name": "stdout",
     "output_type": "stream",
     "text": [
      "6\n",
      "first_half is abc\n",
      "reverse of second_half is  abc\n"
     ]
    }
   ],
   "source": [
    "#check if first half of the word and reverse of second half are same\n",
    "a=\"abccba\"\n",
    "leng=len(a)\n",
    "print(leng)\n",
    "first_half= (leng//2)\n",
    "print(\"first_half is\",a[:first_half])\n",
    "print(\"reverse of second_half is \",a[:(first_half-1):-1])\n"
   ]
  },
  {
   "cell_type": "code",
   "execution_count": 3,
   "id": "0ef5b561",
   "metadata": {},
   "outputs": [
    {
     "name": "stdout",
     "output_type": "stream",
     "text": [
      "write a sentence:rani\n",
      "2\n"
     ]
    }
   ],
   "source": [
    "#Vowel Counter : Ask the user to enter a sentence.\n",
    "#Count how many vowels (a, e, i, o, u) are in the sentence\n",
    "#Print the count \n",
    "n=input(\"write a sentence:\")\n",
    "count=0\n",
    "for i in n.lower():\n",
    "    if i in 'aeiou':\n",
    "        count=count+1\n",
    "print(count)\n",
    "    "
   ]
  },
  {
   "cell_type": "code",
   "execution_count": 5,
   "id": "dd9f897b",
   "metadata": {},
   "outputs": [
    {
     "name": "stdout",
     "output_type": "stream",
     "text": [
      "enter the name :rani\n",
      "rbni\n"
     ]
    }
   ],
   "source": [
    "# write a program which takes the name of the user as input and\n",
    "#replace all the occurence of character 'a' in the name to 'b' and print it.\n",
    "\n",
    "n=input(\"enter the name :\")\n",
    "n=n.replace('a','b')\n",
    "print(n)"
   ]
  }
 ],
 "metadata": {
  "kernelspec": {
   "display_name": "Python 3 (ipykernel)",
   "language": "python",
   "name": "python3"
  },
  "language_info": {
   "codemirror_mode": {
    "name": "ipython",
    "version": 3
   },
   "file_extension": ".py",
   "mimetype": "text/x-python",
   "name": "python",
   "nbconvert_exporter": "python",
   "pygments_lexer": "ipython3",
   "version": "3.10.9"
  }
 },
 "nbformat": 4,
 "nbformat_minor": 5
}
